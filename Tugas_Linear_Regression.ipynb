{
  "cells": [
    {
      "cell_type": "markdown",
      "metadata": {},
      "source": [
        "## 👨‍🎓 Identitas Mahasiswa\n",
        "- **Nama:** Naufal Ahmad Fauzi\n",
        "- **NIM:** 24523168\n",
        "---"
      ]
    },
    {
      "cell_type": "markdown",
      "metadata": {},
      "source": [
        "# 🧠 Linear Regression dengan Python\n",
        "## Disusun untuk Tugas Praktikum\n",
        "\n",
        "**Deskripsi:**\n",
        "Notebook ini berisi penerapan *Linear Regression* menggunakan `scikit-learn` dengan dataset California Housing.\n",
        "Setiap langkah mencakup penjelasan konseptual dan analisis hasil otomatis agar mudah dipahami."
      ]
    },
    {
      "cell_type": "code",
      "execution_count": null,
      "metadata": {},
      "outputs": [],
      "source": [
        "# Import pustaka dasar\n",
        "import numpy as np\n",
        "import pandas as pd\n",
        "import matplotlib.pyplot as plt\n",
        "import seaborn as sns\n",
        "from sklearn.model_selection import train_test_split\n",
        "from sklearn.linear_model import LinearRegression\n",
        "from sklearn.metrics import mean_squared_error, r2_score\n",
        "from sklearn.datasets import fetch_california_housing\n",
        "import warnings\n",
        "warnings.filterwarnings('ignore')"
      ]
    },
    {
      "cell_type": "markdown",
      "metadata": {},
      "source": [
        "## 1️⃣ Persiapan Dataset\n",
        "Kita akan menggunakan dataset *California Housing* dari `sklearn`, yang berisi informasi sosial-ekonomi dan harga rumah di California.\n",
        "\n",
        "**Tujuan:** memprediksi harga rumah (`MedHouseVal`) berdasarkan pendapatan rata-rata (`MedInc`)."
      ]
    },
    {
      "cell_type": "code",
      "execution_count": null,
      "metadata": {},
      "outputs": [],
      "source": [
        "# Memuat dataset\n",
        "data = fetch_california_housing(as_frame=True)\n",
        "df = data.frame\n",
        "\n",
        "# Tampilkan 5 baris pertama\n",
        "df.head()"
      ]
    },
    {
      "cell_type": "markdown",
      "metadata": {},
      "source": [
        "### 📊 Deskripsi Dataset\n",
        "- Jumlah data: sekitar 20.640 baris\n",
        "- Jumlah fitur: 8\n",
        "- Target: `MedHouseVal` (nilai median rumah)\n",
        "- Contoh fitur penting: `MedInc`, `HouseAge`, `AveRooms`, `AveOccup`, `Latitude`, `Longitude`."
      ]
    },
    {
      "cell_type": "markdown",
      "metadata": {},
      "source": [
        "## 2️⃣ Eksplorasi Data (EDA)\n",
        "Tahap ini bertujuan memahami distribusi dan hubungan antar variabel."
      ]
    },
    {
      "cell_type": "code",
      "execution_count": null,
      "metadata": {},
      "outputs": [],
      "source": [
        "# Informasi umum dataset\n",
        "display(df.info())\n",
        "\n",
        "# Statistik deskriptif\n",
        "df.describe().T"
      ]
    },
    {
      "cell_type": "code",
      "execution_count": null,
      "metadata": {},
      "outputs": [],
      "source": [
        "# Visualisasi hubungan antara pendapatan dan harga rumah\n",
        "sns.scatterplot(x='MedInc', y='MedHouseVal', data=df, alpha=0.3)\n",
        "plt.title('Hubungan antara Pendapatan dan Harga Rumah')\n",
        "plt.xlabel('Pendapatan Median (MedInc)')\n",
        "plt.ylabel('Nilai Median Rumah (MedHouseVal)')\n",
        "plt.show()"
      ]
    },
    {
      "cell_type": "markdown",
      "metadata": {},
      "source": [
        "## 3️⃣ Pembangunan Model\n",
        "Kita akan menggunakan `LinearRegression` dari `sklearn.linear_model` untuk membangun model prediktif."
      ]
    },
    {
      "cell_type": "code",
      "execution_count": null,
      "metadata": {},
      "outputs": [],
      "source": [
        "# Menentukan fitur (X) dan target (y)\n",
        "X = df[['MedInc']]\n",
        "y = df['MedHouseVal']\n",
        "\n",
        "# Split data menjadi training (80%) dan testing (20%)\n",
        "X_train, X_test, y_train, y_test = train_test_split(X, y, test_size=0.2, random_state=42)\n",
        "\n",
        "# Inisialisasi dan latih model\n",
        "model = LinearRegression()\n",
        "model.fit(X_train, y_train)\n",
        "\n",
        "# Tampilkan parameter model\n",
        "print(f\"Slope (Koefisien): {model.coef_[0]:.4f}\")\n",
        "print(f\"Intercept: {model.intercept_:.4f}\")"
      ]
    },
    {
      "cell_type": "markdown",
      "metadata": {},
      "source": [
        "## 4️⃣ Evaluasi Model\n",
        "Evaluasi dilakukan dengan *Mean Squared Error (MSE)* dan *R² Score* untuk mengukur kinerja model."
      ]
    },
    {
      "cell_type": "code",
      "execution_count": null,
      "metadata": {},
      "outputs": [],
      "source": [
        "# Prediksi\n",
        "y_pred = model.predict(X_test)\n",
        "\n",
        "# Evaluasi\n",
        "mse = mean_squared_error(y_test, y_pred)\n",
        "r2 = r2_score(y_test, y_pred)\n",
        "\n",
        "print(f\"Mean Squared Error (MSE): {mse:.4f}\")\n",
        "print(f\"R² Score: {r2:.4f}\")"
      ]
    },
    {
      "cell_type": "markdown",
      "metadata": {},
      "source": [
        "## 5️⃣ Visualisasi Hasil Regresi\n",
        "Kita akan menggambar garis regresi terhadap data aktual untuk melihat seberapa baik model menyesuaikan data."
      ]
    },
    {
      "cell_type": "code",
      "execution_count": null,
      "metadata": {},
      "outputs": [],
      "source": [
        "plt.figure(figsize=(8,6))\n",
        "plt.scatter(X_test, y_test, color='blue', alpha=0.3, label='Data Aktual')\n",
        "plt.plot(X_test, y_pred, color='red', linewidth=2, label='Garis Regresi')\n",
        "plt.xlabel('Pendapatan Median (MedInc)')\n",
        "plt.ylabel('Nilai Median Rumah (MedHouseVal)')\n",
        "plt.title('Regresi Linear: Pendapatan vs Harga Rumah')\n",
        "plt.legend()\n",
        "plt.show()"
      ]
    },
    {
      "cell_type": "markdown",
      "metadata": {},
      "source": [
        "## 6️⃣ Analisis Otomatis dan Kesimpulan\n",
        "Bagian ini melakukan analisis otomatis terhadap hasil model."
      ]
    },
    {
      "cell_type": "code",
      "execution_count": null,
      "metadata": {},
      "outputs": [],
      "source": [
        "def analisis_model(slope, intercept, r2):\n",
        "    print('--- Analisis Model ---')\n",
        "    print(f\"Koefisien (slope): {slope:.4f}\")\n",
        "    print(f\"Intercept: {intercept:.4f}\\n\")\n",
        "\n",
        "    if r2 > 0.7:\n",
        "        print(f\"✅ Model sangat baik (R² = {r2:.2f}), mampu menjelaskan sebagian besar variasi data.\")\n",
        "    elif r2 > 0.4:\n",
        "        print(f\"⚖️ Model cukup baik (R² = {r2:.2f}), masih ada variabel lain yang berpengaruh.\")\n",
        "    else:\n",
        "        print(f\"⚠️ Model lemah (R² = {r2:.2f}), hubungan antara variabel kurang kuat.\")\n",
        "\n",
        "    print('\\nInterpretasi:')\n",
        "    print(f\"Setiap kenaikan 1 unit pendapatan (MedInc) meningkatkan harga rumah sebesar {slope:.4f} unit.\")\n",
        "    print(\"Intercept menunjukkan nilai rumah saat pendapatan = 0 (nilai teoritis, bukan realistis).\")\n",
        "\n",
        "analisis_model(model.coef_[0], model.intercept_, r2)"
      ]
    },
    {
      "cell_type": "markdown",
      "metadata": {},
      "source": [
        "### ✅ Kesimpulan Akhir\n",
        "- *Linear Regression* mampu menggambarkan hubungan positif antara pendapatan dan harga rumah.\n",
        "- Model sederhana ini belum sempurna karena hanya menggunakan satu fitur (`MedInc`).\n",
        "- Untuk akurasi lebih tinggi, tambahkan fitur lain seperti `HouseAge`, `AveRooms`, atau `Latitude`."
      ]
    },
    {
      "cell_type": "code",
      "execution_count": null,
      "id": "c1d8f09d",
      "metadata": {},
      "outputs": [],
      "source": []
    }
  ],
  "metadata": {
    "kernelspec": {
      "display_name": "Python 3",
      "language": "python",
      "name": "python3"
    },
    "language_info": {
      "name": "python",
      "version": "3.11"
    }
  },
  "nbformat": 4,
  "nbformat_minor": 5
}
